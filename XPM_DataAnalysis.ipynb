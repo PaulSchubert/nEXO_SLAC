{
  "nbformat": 4,
  "nbformat_minor": 0,
  "metadata": {
    "colab": {
      "name": "XPM_DataAnalysis.ipynb",
      "provenance": [],
      "collapsed_sections": []
    },
    "kernelspec": {
      "name": "python3",
      "display_name": "Python 3"
    },
    "language_info": {
      "name": "python"
    }
  },
  "cells": [
    {
      "cell_type": "markdown",
      "source": [
        ""
      ],
      "metadata": {
        "id": "wXMsBHUXAp7L"
      }
    },
    {
      "cell_type": "code",
      "source": [
        "!wget https://github.com/MohamedElashri/HEP-ML/releases/download/ROOT/ROOT.tar.zip\n",
        "!unzip /content/ROOT.tar.zip\n",
        "!tar -xf  ROOT.tar\n",
        "!apt-get install git dpkg-dev cmake g++ gcc binutils libx11-dev libxpm-dev libxft-dev libxext-dev tar gfortran subversion\n",
        "import sys\n",
        "sys.path.append(\"/content/root_build/\")\n",
        "sys.path.append(\"/content/root_build/bin/\")\n",
        "sys.path.append(\"/content/root_build/include/\")\n",
        "sys.path.append(\"/content/root_build/lib/\")\n",
        "import ctypes\n",
        "ctypes.cdll.LoadLibrary('/content/root_build/lib//libCore.so')\n",
        "ctypes.cdll.LoadLibrary('/content/root_build/lib//libThread.so')\n",
        "ctypes.cdll.LoadLibrary('/content/root_build/lib//libTreePlayer.so')"
      ],
      "metadata": {
        "id": "LGGpBbiQVwm_"
      },
      "execution_count": null,
      "outputs": []
    },
    {
      "cell_type": "markdown",
      "source": [
        "We now mount Google Drive locally (more info at https://colab.research.google.com/notebooks/io.ipynb#scrollTo=u22w3BFiOveA)"
      ],
      "metadata": {
        "id": "4ReQyDz7BgCM"
      }
    },
    {
      "cell_type": "code",
      "source": [
        "# Load the Drive helper and mount\n",
        "from google.colab import drive\n",
        "\n",
        "# This will prompt for authorization.\n",
        "drive.mount('/content/drive')\n",
        "! git clone https://github.com/shamondho/nEXOskyline\n",
        "\n"
      ],
      "metadata": {
        "id": "ToaT0Hbb1fWd"
      },
      "execution_count": null,
      "outputs": []
    },
    {
      "cell_type": "markdown",
      "source": [
        "\n",
        "\n",
        "A good place to get start to learn how to use PyROOT is https://root.cern/manual/python/"
      ],
      "metadata": {
        "id": "gr203lCDC2p6"
      }
    },
    {
      "cell_type": "code",
      "source": [
        "import sys, os\n",
        "import glob\n",
        "import numpy as np\n",
        "from sklearn.linear_model import LinearRegression\n",
        "import matplotlib as mpl\n",
        "mpl.rc('figure',facecolor='white')\n",
        "from matplotlib import pyplot as plt\n",
        "from matplotlib import dates as dt\n",
        "from collections import defaultdict\n",
        "import seaborn as sns\n",
        "import ROOT\n",
        "ROOT.gErrorIgnoreLevel = 3000\n",
        "#ROOT.gROOT.Reset()\n",
        "\n",
        "def vtoa( buf, entries ):\n",
        "  retarr = []\n",
        "  for idx in range(0,entries-1) :\n",
        "    retarr.append( buf[idx] )\n",
        "  return retarr\n",
        "\n",
        "#    \n",
        "tree = ROOT.TTree('tree', '')\n",
        "\n",
        "path = '/content/nEXOskyline/XPM_analysis/data/'\n",
        "my_list_of_files = glob.glob(path + 'torlonE4.txt')\n",
        "for file_name in my_list_of_files:\n",
        "    tree.ReadFile(file_name,'Tc:Ta:TcRise:TaRise:cat:an:offst:datime:IR:UV',',')\n",
        "\n",
        "tree.Draw('Entry$:datime','','goff')\n",
        "start_time = tree.GetV2()[0]\n",
        "\n",
        "#defining histogram and bins\n",
        "myhist = ROOT.TH2F('myhist','',50,200.0,700.0,25,35.0,85.0)\n",
        "\n",
        "\n",
        "tree.Draw('cat:(datime-'+str(start_time)+')/3600.0 >> myhist','cat > 10.0 && (datime-' +str(start_time)+')/3600.0 > 175.0','goff')\n",
        "myprof = myhist.ProfileX()\n",
        "x = []\n",
        "y = []\n",
        "e = []\n",
        "for bin in range(1,myprof.GetNbinsX()+2) :\n",
        "   # print(bin,myprof.GetBinContent(bin),myprof.GetBinEntries(bin))\n",
        "   if( myprof.GetBinEntries(bin)<=3 ): continue\n",
        "   x.append(myprof.GetBinCenter(bin))\n",
        "   y.append(myprof.GetBinContent(bin))\n",
        "   e.append(myprof.GetBinError(bin))\n",
        "\n",
        "#creating lists of these two types of points\n",
        "cat = vtoa(tree.GetV1(), tree.GetSelectedRows())\n",
        "hours = vtoa(tree.GetV2(), tree.GetSelectedRows())\n",
        "\n",
        "plt.plot(hours, cat, 'ro', markersize = 1.5)\n",
        "plt.errorbar(x, y, e)\n",
        "plt.xlabel('Hours')\n",
        "plt.ylabel('cat')\n",
        "plt.title('cat vs. hours')\n",
        "\n",
        "\n",
        "\n",
        "\n",
        "myprof.Fit('pol1', 'NS')\n",
        "\n",
        "#x & y values of the linear fit to data selection\n",
        "m = ROOT.pol1.GetParameter(1)\n",
        "b = ROOT.pol1.GetParameter(0)\n",
        "\n",
        "\n",
        "def addLinearLine(m, y):\n",
        "  axes = plt.gca()\n",
        "  xVals = np.array(axes.get_xlim())\n",
        "  yVals = y + m *xVals\n",
        "\n",
        "  plt.plot(xVals, yVals, 'b--')\n",
        "\n",
        "#function called\n",
        "addLinearLine(m, b)\n",
        "\n",
        "\n",
        "\n",
        "\n",
        "\n",
        "\n",
        "\n",
        "#This same process is listed in the 'code window' below to be on a seperate graph - best fit line is added in next code window\n",
        "myhist1 = ROOT.TH2F('myhist1','',50,200.0,700.0,25,35.0,85.0)\n",
        "\n",
        "hourstr = '(datime-'+str(start_time)+')/3600.0'\n",
        "drawcommand = 'cat-('+str(m)+'*'+hourstr+'+'+str(b)+')'\n",
        "#print(drawcommand)\n",
        "\n",
        "tree.Draw('cat-('+str(m)+'*'+hourstr+'+'+str(b)+'):(datime-'+str(start_time)+')/3600.0 >> myhist1', 'cat > 10.0 && (datime-' +str(start_time)+')/3600.0 > 175.0','goff')\n",
        "\n",
        "myprof1 = myhist1.ProfileX()\n",
        "x = []\n",
        "y = []\n",
        "e = []\n",
        "for bin in range(1,myprof1.GetNbinsX()+2) :\n",
        "   # print(bin,myprof1.GetBinContent(bin),myprof1.GetBinEntries(bin))\n",
        "   if( myprof1.GetBinEntries(bin)<=3 ): continue\n",
        "   x.append(myprof1.GetBinCenter(bin))\n",
        "   y.append(myprof1.GetBinContent(bin))\n",
        "   e.append(myprof1.GetBinError(bin))\n",
        "\n",
        "#creating lists of these two types of points\n",
        "cat = vtoa(tree.GetV1(), tree.GetSelectedRows())\n",
        "hours = vtoa(tree.GetV2(), tree.GetSelectedRows())\n",
        "\n",
        "plt.plot(hours, cat, 'go', markersize = 1.5)\n",
        "\n",
        "\n",
        "\n",
        "y = np.array(cat)\n",
        "x = np.array(hours).reshape((-1, 1))\n",
        "\n",
        "\n",
        "model = LinearRegression()\n",
        "model.fit(x, y)\n",
        "#r_sq = model.score(x, y)\n",
        "#print(f\"coefficient of determination: {r_sq}\")\n",
        "#print(f\"intercept: {model.intercept_}\")\n",
        "#print(f\"slope: {model.coef_}\")\n",
        "\n",
        "newModel = LinearRegression().fit(x, y.reshape((-1, 1)))\n",
        "print(f\"intercept: {newModel.intercept_}\")\n",
        "print(f\"slope: {newModel.coef_}\")\n",
        "\n",
        "#both methods utilized below are essentially identical\n",
        "#yPred = model.predict(x)\n",
        "#print(f\"predicted response:\\n{yPred}\")\n",
        "yPred = model.intercept_ + model.coef_ * x\n",
        "#print(f\"predicted response:\\n{yPred}\")\n",
        "\n",
        "plt.plot(hours, yPred, 'b--')\n"
      ],
      "metadata": {
        "colab": {
          "base_uri": "https://localhost:8080/",
          "height": 366
        },
        "id": "3WTFeA-2wSaA",
        "outputId": "e8f5257b-d492-40f5-f148-0f67ec649ceb"
      },
      "execution_count": 3,
      "outputs": [
        {
          "output_type": "stream",
          "name": "stdout",
          "text": [
            "Welcome to JupyROOT 6.14/04\n",
            "intercept: [-1.02065175]\n",
            "slope: [[0.00204946]]\n"
          ]
        },
        {
          "output_type": "execute_result",
          "data": {
            "text/plain": [
              "[<matplotlib.lines.Line2D at 0x7fe54f4b2250>]"
            ]
          },
          "metadata": {},
          "execution_count": 3
        },
        {
          "output_type": "display_data",
          "data": {
            "text/plain": [
              "<Figure size 432x288 with 1 Axes>"
            ],
            "image/png": "[encoded data removed]"
          },
          "metadata": {}
        }
      ]
    },
    {
      "cell_type": "code",
      "source": [
        "myhist2 = ROOT.TH2F('myhist2','',50,650.0,1000.0,15,-20.0,10.0)\n",
        "\n",
        "tree.Draw('cat-('+str(m)+'*'+hourstr+'+'+str(b)+'): UV >> myhist2','cat-('+str(m)+'*'+hourstr+'+'+str(b)+') > -20.0 && UV > 650.0','goff')\n",
        "\n",
        "myprof2 = myhist2.ProfileX()\n",
        "x = []\n",
        "y = []\n",
        "e = []\n",
        "for bin in range(1,myprof2.GetNbinsX()+2) :\n",
        "   # print(bin,myprof2.GetBinContent(bin),myprof2.GetBinEntries(bin))\n",
        "   if( myprof2.GetBinEntries(bin)<=3 ): continue\n",
        "   x.append(myprof2.GetBinCenter(bin))\n",
        "   y.append(myprof2.GetBinContent(bin))\n",
        "   e.append(myprof2.GetBinError(bin))\n",
        "\n",
        "#creating lists of these two types of points\n",
        "cat = vtoa(tree.GetV1(), tree.GetSelectedRows())\n",
        "UV = vtoa(tree.GetV2(), tree.GetSelectedRows())\n",
        "\n",
        "plt.plot(UV, cat, 'ro', markersize = 1.5)\n",
        "plt.errorbar(x, y, e)\n",
        "plt.xlabel('UV')\n",
        "plt.ylabel('cat (adjusted for slope & intercept)')\n",
        "plt.title('cat (adjusted for slope & intercept) vs. UV')\n",
        "\n",
        "\n",
        "\n",
        "#everything below is for linear regression\n",
        "#\n",
        "#\n",
        "x = np.array(UV).reshape((-1, 1))\n",
        "y = np.array(cat)\n",
        "\n",
        "model = LinearRegression().fit(x, y)\n",
        "\n",
        "print(f\"coefficient of determination: {model.score(x, y)}\")\n",
        "print(f\"intercept: {model.intercept_}\")\n",
        "print(f\"slope: {model.coef_}\")\n",
        "\n",
        "#newModel = LinearRegression().fit(x, y.reshape((-1, 1)))\n",
        "#print(f\"intercept: {newModel.intercept_}\")\n",
        "#print(f\"slope: {newModel.coef_}\")\n",
        "\n",
        "yPred = model.predict(x)\n",
        "#print(f\"predicted response:\\n{yPred}\")\n",
        "\n",
        "#yPred = model.intercept_ + model.coef_ * x\n",
        "#print(f\"predicted response:\\n{yPred}\")\n",
        "\n",
        "plt.plot(UV, yPred, 'b--')"
      ],
      "metadata": {
        "colab": {
          "base_uri": "https://localhost:8080/",
          "height": 366
        },
        "id": "sILoGc66ib7L",
        "outputId": "61152995-bfb3-4923-c142-0782c317b252"
      },
      "execution_count": 4,
      "outputs": [
        {
          "output_type": "stream",
          "name": "stdout",
          "text": [
            "coefficient of determination: 0.011120926952849719\n",
            "intercept: -7.591520492179221\n",
            "slope: [0.00815954]\n"
          ]
        },
        {
          "output_type": "execute_result",
          "data": {
            "text/plain": [
              "[<matplotlib.lines.Line2D at 0x7fe54bc9f8d0>]"
            ]
          },
          "metadata": {},
          "execution_count": 4
        },
        {
          "output_type": "display_data",
          "data": {
            "text/plain": [
              "<Figure size 432x288 with 1 Axes>"
            ],
            "image/png": "[encoded data removed]"
          },
          "metadata": {}
        }
      ]
    },
    {
      "cell_type": "code",
      "source": [
        "import math\n",
        "import numpy as np\n",
        "from scipy.stats import linregress\n",
        "\n",
        "myhist3 = ROOT.TH2F('myhist3','', 1,0.0,3.0, 1,0.0,3.0)\n",
        "\n",
        "\n",
        "#converting over to logCat and logUV\n",
        "tree.Draw('cat-('+str(m)+'*'+hourstr+'): UV', 'cat-('+str(m)+'*'+hourstr+') > 60 && UV > 100')\n",
        "cat = vtoa(tree.GetV1(), tree.GetSelectedRows())\n",
        "UV = vtoa(tree.GetV2(), tree.GetSelectedRows())\n",
        "\n",
        "logCat = np.log10(cat)\n",
        "logUV = np.log10(UV)\n",
        "\n",
        "\n",
        "tree.Draw('logCat: logUV >> myhist3','logCat > 1.0 && logUV > 0.0','goff')\n",
        "\n",
        "myprof3 = myhist3.ProfileX()\n",
        "x = []\n",
        "y = []\n",
        "e = []\n",
        "for bin in range(1,myprof3.GetNbinsX()+2) :\n",
        "   # print(bin,myprof3.GetBinContent(bin),myprof3.GetBinEntries(bin))\n",
        "   if( myprof3.GetBinEntries(bin)<=3 ): continue\n",
        "   x.append(myprof3.GetBinCenter(bin))\n",
        "   y.append(myprof3.GetBinContent(bin))\n",
        "   e.append(myprof3.GetBinError(bin))\n",
        "\n",
        "#creating lists of these two types of points\n",
        "#logCat = vtoa(tree.GetV1(), tree.GetSelectedRows())\n",
        "#logUV = vtoa(tree.GetV2(), tree.GetSelectedRows())\n",
        "\n",
        "#plotting data\n",
        "plt.plot(logUV, logCat, 'ro', markersize = 1.5)\n",
        "plt.errorbar(x, y, e)\n",
        "plt.xlabel('logUV')\n",
        "plt.ylabel('logCat (adjusted for slope)')\n",
        "plt.title('logCat (adjusted for slope) vs. logUV')\n",
        "\n",
        "\n",
        "\n",
        "#everything below is for linear regression\n",
        "#\n",
        "#\n",
        "linregress(logUV, logCat)\n",
        "#print(\"slope: 0.3426\")\n",
        "#print(\"intercept: 0.9532\")\n",
        "#reg = linregress(logUV, logCat)\n",
        "#plt.axline(xy1 = (0, reg.intercept), slope = reg.slope, linestyle = \"--\", color = \"k\")\n",
        "#plt.xlim(2.7, 3)\n",
        "#plt.ylim(1.75, 2)"
      ],
      "metadata": {
        "id": "6T42i2TCKmtj",
        "colab": {
          "base_uri": "https://localhost:8080/",
          "height": 366
        },
        "outputId": "ee9e92bc-6a51-453e-f5fb-9d74d7c2dac9"
      },
      "execution_count": 25,
      "outputs": [
        {
          "output_type": "execute_result",
          "data": {
            "text/plain": [
              "LinregressResult(slope=0.30231487480381836, intercept=1.0707774759306026, rvalue=0.3647266651915306, pvalue=2.5707898980572443e-56, stderr=0.018438606728450657, intercept_stderr=0.0534699188869946)"
            ]
          },
          "metadata": {},
          "execution_count": 25
        },
        {
          "output_type": "display_data",
          "data": {
            "text/plain": [
              "<Figure size 432x288 with 1 Axes>"
            ],
            "image/png": "[encoded data removed]"
          },
          "metadata": {}
        },
        {
          "output_type": "stream",
          "name": "stderr",
          "text": [
            "Error in <TTreeFormula::Compile>:  Bad numerical expression : \"logCat\"\n"
          ]
        }
      ]
    },
    {
      "cell_type": "code",
      "source": [
        "!cp raw_bkg_template.dat /content/nEXOskyline/XPM_analysis/data/."
      ],
      "metadata": {
        "id": "zj83GN_vptSI"
      },
      "execution_count": null,
      "outputs": []
    },
    {
      "cell_type": "code",
      "source": [
        "! cd /content/nEXOskyline/XPM_analysis/data/."
      ],
      "metadata": {
        "id": "E3GKp_vCp7OS"
      },
      "execution_count": null,
      "outputs": []
    },
    {
      "cell_type": "code",
      "source": [
        "!cd /content/nEXOskyline/XPM_analysis/data && cp raw_bkg_template.dat /tree/main/."
      ],
      "metadata": {
        "colab": {
          "base_uri": "https://localhost:8080/"
        },
        "id": "blXJBLSGqE0R",
        "outputId": "1c5ea8f7-6996-4be0-d1c5-7eaaf10a0755"
      },
      "execution_count": null,
      "outputs": [
        {
          "output_type": "stream",
          "name": "stdout",
          "text": [
            "cp: cannot create regular file '/tree/main/.': No such file or directory\n"
          ]
        }
      ]
    }
  ]
}